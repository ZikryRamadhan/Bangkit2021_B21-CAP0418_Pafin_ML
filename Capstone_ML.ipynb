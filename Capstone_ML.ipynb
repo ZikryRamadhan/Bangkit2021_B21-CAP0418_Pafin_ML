{
  "nbformat": 4,
  "nbformat_minor": 0,
  "metadata": {
    "colab": {
      "name": "Capstone_ML.ipynb",
      "provenance": [],
      "collapsed_sections": [],
      "toc_visible": true,
      "authorship_tag": "ABX9TyPRoEcXT73lbYNRrcAw/bC1",
      "include_colab_link": true
    },
    "kernelspec": {
      "name": "python3",
      "display_name": "Python 3"
    },
    "language_info": {
      "name": "python"
    }
  },
  "cells": [
    {
      "cell_type": "markdown",
      "metadata": {
        "id": "view-in-github",
        "colab_type": "text"
      },
      "source": [
        "<a href=\"https://colab.research.google.com/github/ZikryRamadhan/Bangkit2021_Pafin/blob/main/Capstone_ML.ipynb\" target=\"_parent\"><img src=\"https://colab.research.google.com/assets/colab-badge.svg\" alt=\"Open In Colab\"/></a>"
      ]
    },
    {
      "cell_type": "code",
      "metadata": {
        "id": "tLj86PFEy5x7"
      },
      "source": [
        "import pandas as pd\n",
        "import numpy as np\n",
        "import tensorflow as tf"
      ],
      "execution_count": 1,
      "outputs": []
    },
    {
      "cell_type": "markdown",
      "metadata": {
        "id": "kifBqcn_0JDT"
      },
      "source": [
        "## Getting the dataset"
      ]
    },
    {
      "cell_type": "markdown",
      "metadata": {
        "id": "IAkCzD9fCihB"
      },
      "source": [
        "Dataset available from kaggle (https://www.kaggle.com/charanpuvvala/company-classification)"
      ]
    },
    {
      "cell_type": "markdown",
      "metadata": {
        "id": "IqNnF8utCjtn"
      },
      "source": [
        "Upload kaggle.json first (open kaggle, account -> create new API token)"
      ]
    },
    {
      "cell_type": "code",
      "metadata": {
        "colab": {
          "base_uri": "https://localhost:8080/"
        },
        "id": "bxsff1u40C3K",
        "outputId": "1143ea8c-137e-4628-d2f4-0e2716aa3cca"
      },
      "source": [
        "! chmod 600 kaggle.json && (ls ~/.kaggle 2>/dev/null || mkdir ~/.kaggle) && mv kaggle.json ~/.kaggle/ && echo 'Done'"
      ],
      "execution_count": 2,
      "outputs": [
        {
          "output_type": "stream",
          "text": [
            "chmod: cannot access 'kaggle.json': No such file or directory\n"
          ],
          "name": "stdout"
        }
      ]
    },
    {
      "cell_type": "code",
      "metadata": {
        "colab": {
          "base_uri": "https://localhost:8080/"
        },
        "id": "-NBLxKEt0HRt",
        "outputId": "5328ff2f-9654-4c58-d403-b6c85e342529"
      },
      "source": [
        "! kaggle datasets download charanpuvvala/company-classification\n",
        "! ls"
      ],
      "execution_count": 3,
      "outputs": [
        {
          "output_type": "stream",
          "text": [
            "company-classification.zip: Skipping, found more recently modified local copy (use --force to force download)\n",
            "company-classification.zip  sample_data\n"
          ],
          "name": "stdout"
        }
      ]
    },
    {
      "cell_type": "markdown",
      "metadata": {
        "id": "Qq2vLPHb0NGv"
      },
      "source": [
        "## Preprocessing dataset"
      ]
    },
    {
      "cell_type": "code",
      "metadata": {
        "colab": {
          "base_uri": "https://localhost:8080/",
          "height": 496
        },
        "id": "Aq6-3SqY0RFr",
        "outputId": "d5843b65-ab09-46e6-e58d-6285207c89be"
      },
      "source": [
        "df = pd.read_csv('company-classification.zip')\n",
        "df.head()"
      ],
      "execution_count": 4,
      "outputs": [
        {
          "output_type": "execute_result",
          "data": {
            "text/html": [
              "<div>\n",
              "<style scoped>\n",
              "    .dataframe tbody tr th:only-of-type {\n",
              "        vertical-align: middle;\n",
              "    }\n",
              "\n",
              "    .dataframe tbody tr th {\n",
              "        vertical-align: top;\n",
              "    }\n",
              "\n",
              "    .dataframe thead th {\n",
              "        text-align: right;\n",
              "    }\n",
              "</style>\n",
              "<table border=\"1\" class=\"dataframe\">\n",
              "  <thead>\n",
              "    <tr style=\"text-align: right;\">\n",
              "      <th></th>\n",
              "      <th>Category</th>\n",
              "      <th>website</th>\n",
              "      <th>company_name</th>\n",
              "      <th>homepage_text</th>\n",
              "      <th>h1</th>\n",
              "      <th>h2</th>\n",
              "      <th>h3</th>\n",
              "      <th>nav_link_text</th>\n",
              "      <th>meta_keywords</th>\n",
              "      <th>meta_description</th>\n",
              "    </tr>\n",
              "  </thead>\n",
              "  <tbody>\n",
              "    <tr>\n",
              "      <th>0</th>\n",
              "      <td>Commercial Services &amp; Supplies</td>\n",
              "      <td>bipelectric.com</td>\n",
              "      <td>bip dipietro electric inc</td>\n",
              "      <td>Electrici...</td>\n",
              "      <td>NaN</td>\n",
              "      <td>NaN</td>\n",
              "      <td>NaN</td>\n",
              "      <td>NaN</td>\n",
              "      <td>electricians vero beach, vero beach electrical...</td>\n",
              "      <td>Providing quality, reliable full service resid...</td>\n",
              "    </tr>\n",
              "    <tr>\n",
              "      <th>1</th>\n",
              "      <td>Healthcare</td>\n",
              "      <td>eliasmedical.com</td>\n",
              "      <td>elias medical</td>\n",
              "      <td>site map | en español    Elias Medical   h...</td>\n",
              "      <td>Offering Bakersfield family medical care from ...</td>\n",
              "      <td>Welcome to ELIAS MEDICAL#sep#Family Medical Pr...</td>\n",
              "      <td>Get To Know Elias Medical#sep#Family Medical P...</td>\n",
              "      <td>NaN</td>\n",
              "      <td>Elias Medical bakersfield ca family doctor med...</td>\n",
              "      <td>For the best value in Bakersfield skin care tr...</td>\n",
              "    </tr>\n",
              "    <tr>\n",
              "      <th>2</th>\n",
              "      <td>Commercial Services &amp; Supplies</td>\n",
              "      <td>koopsoverheaddoors.com</td>\n",
              "      <td>koops overhead doors</td>\n",
              "      <td>Home  About Us  Garage Door Repair &amp; Servi...</td>\n",
              "      <td>NaN</td>\n",
              "      <td>Customer Reviews#sep#Welcome to Koops Overhead...</td>\n",
              "      <td>NaN</td>\n",
              "      <td>NaN</td>\n",
              "      <td>Koops Overhead Doors, Albany Garage Doors, Tro...</td>\n",
              "      <td>Koops Overhead Doors specializes in the sales,...</td>\n",
              "    </tr>\n",
              "    <tr>\n",
              "      <th>3</th>\n",
              "      <td>Healthcare</td>\n",
              "      <td>midtowneyes.com</td>\n",
              "      <td>midtown eyecare</td>\n",
              "      <td>918-599-0202        Type Size...</td>\n",
              "      <td>NaN</td>\n",
              "      <td>Welcome to our practice!</td>\n",
              "      <td>NaN</td>\n",
              "      <td>NaN</td>\n",
              "      <td>NaN</td>\n",
              "      <td>We would like to welcome you to Midtown Eyecar...</td>\n",
              "    </tr>\n",
              "    <tr>\n",
              "      <th>4</th>\n",
              "      <td>Commercial Services &amp; Supplies</td>\n",
              "      <td>reprosecurity.co.uk</td>\n",
              "      <td>repro security ltd</td>\n",
              "      <td>Simply fill out our form below...</td>\n",
              "      <td>NaN</td>\n",
              "      <td>Welcome to REPRO SECURITY Ltd</td>\n",
              "      <td>NaN</td>\n",
              "      <td>NaN</td>\n",
              "      <td>NaN</td>\n",
              "      <td>Repro Security provide a range of tailor made ...</td>\n",
              "    </tr>\n",
              "  </tbody>\n",
              "</table>\n",
              "</div>"
            ],
            "text/plain": [
              "                         Category  ...                                   meta_description\n",
              "0  Commercial Services & Supplies  ...  Providing quality, reliable full service resid...\n",
              "1                      Healthcare  ...  For the best value in Bakersfield skin care tr...\n",
              "2  Commercial Services & Supplies  ...  Koops Overhead Doors specializes in the sales,...\n",
              "3                      Healthcare  ...  We would like to welcome you to Midtown Eyecar...\n",
              "4  Commercial Services & Supplies  ...  Repro Security provide a range of tailor made ...\n",
              "\n",
              "[5 rows x 10 columns]"
            ]
          },
          "metadata": {
            "tags": []
          },
          "execution_count": 4
        }
      ]
    },
    {
      "cell_type": "code",
      "metadata": {
        "colab": {
          "base_uri": "https://localhost:8080/",
          "height": 204
        },
        "id": "lE02SWv60mVb",
        "outputId": "147c724c-809e-464e-aa1e-d9d14c823910"
      },
      "source": [
        "# Remove all column except Category and meta_description \n",
        "# Rename meta_description to Description\n",
        "df.drop(['company_name', 'homepage_text',\t'h1',\t'h2',\t'h3', 'website', 'nav_link_text',\t'meta_keywords'], axis=1, inplace=True)\n",
        "df.rename(columns={'meta_description' : 'Description'}, inplace=True)\n",
        "df.head()"
      ],
      "execution_count": 5,
      "outputs": [
        {
          "output_type": "execute_result",
          "data": {
            "text/html": [
              "<div>\n",
              "<style scoped>\n",
              "    .dataframe tbody tr th:only-of-type {\n",
              "        vertical-align: middle;\n",
              "    }\n",
              "\n",
              "    .dataframe tbody tr th {\n",
              "        vertical-align: top;\n",
              "    }\n",
              "\n",
              "    .dataframe thead th {\n",
              "        text-align: right;\n",
              "    }\n",
              "</style>\n",
              "<table border=\"1\" class=\"dataframe\">\n",
              "  <thead>\n",
              "    <tr style=\"text-align: right;\">\n",
              "      <th></th>\n",
              "      <th>Category</th>\n",
              "      <th>Description</th>\n",
              "    </tr>\n",
              "  </thead>\n",
              "  <tbody>\n",
              "    <tr>\n",
              "      <th>0</th>\n",
              "      <td>Commercial Services &amp; Supplies</td>\n",
              "      <td>Providing quality, reliable full service resid...</td>\n",
              "    </tr>\n",
              "    <tr>\n",
              "      <th>1</th>\n",
              "      <td>Healthcare</td>\n",
              "      <td>For the best value in Bakersfield skin care tr...</td>\n",
              "    </tr>\n",
              "    <tr>\n",
              "      <th>2</th>\n",
              "      <td>Commercial Services &amp; Supplies</td>\n",
              "      <td>Koops Overhead Doors specializes in the sales,...</td>\n",
              "    </tr>\n",
              "    <tr>\n",
              "      <th>3</th>\n",
              "      <td>Healthcare</td>\n",
              "      <td>We would like to welcome you to Midtown Eyecar...</td>\n",
              "    </tr>\n",
              "    <tr>\n",
              "      <th>4</th>\n",
              "      <td>Commercial Services &amp; Supplies</td>\n",
              "      <td>Repro Security provide a range of tailor made ...</td>\n",
              "    </tr>\n",
              "  </tbody>\n",
              "</table>\n",
              "</div>"
            ],
            "text/plain": [
              "                         Category                                        Description\n",
              "0  Commercial Services & Supplies  Providing quality, reliable full service resid...\n",
              "1                      Healthcare  For the best value in Bakersfield skin care tr...\n",
              "2  Commercial Services & Supplies  Koops Overhead Doors specializes in the sales,...\n",
              "3                      Healthcare  We would like to welcome you to Midtown Eyecar...\n",
              "4  Commercial Services & Supplies  Repro Security provide a range of tailor made ..."
            ]
          },
          "metadata": {
            "tags": []
          },
          "execution_count": 5
        }
      ]
    },
    {
      "cell_type": "code",
      "metadata": {
        "id": "c-AkHy903JGL"
      },
      "source": [
        "# Category with more than 1 word will raise an error during training\n",
        "# So have to rename or remove them\n",
        "err = ['Commercial Services & Supplies',\n",
        "       'Energy & Utilities', 'Professional Services',\n",
        "       'Corporate Services', 'Media, Marketing & Sales',\n",
        "       'Information Technology', 'Consumer Discretionary', \n",
        "       'Transportation & Logistics', 'Consumer Staples']"
      ],
      "execution_count": 6,
      "outputs": []
    },
    {
      "cell_type": "code",
      "metadata": {
        "id": "5NLNRR-v3pl9"
      },
      "source": [
        "# We will remove them to make the database smaller (also easier)\n",
        "for x in range(len(err)):\n",
        "  df.drop(index=df[df['Category'] == err[x]].index, inplace=True)"
      ],
      "execution_count": 7,
      "outputs": []
    },
    {
      "cell_type": "code",
      "metadata": {
        "id": "Ud5eEkX84meN"
      },
      "source": [
        "# Drop any row with NaN value\n",
        "df.dropna(inplace=True)"
      ],
      "execution_count": 8,
      "outputs": []
    },
    {
      "cell_type": "code",
      "metadata": {
        "id": "KVdCRoZK4-jV"
      },
      "source": [
        "# Shuffle and Reset index\n",
        "df = df.sample(frac=1).reset_index(drop=True)"
      ],
      "execution_count": 9,
      "outputs": []
    },
    {
      "cell_type": "code",
      "metadata": {
        "colab": {
          "base_uri": "https://localhost:8080/",
          "height": 204
        },
        "id": "aXDYkNHe5K1J",
        "outputId": "1ae282d8-1f3f-4ba8-9685-5efbeb4c62a8"
      },
      "source": [
        "df.head()"
      ],
      "execution_count": 10,
      "outputs": [
        {
          "output_type": "execute_result",
          "data": {
            "text/html": [
              "<div>\n",
              "<style scoped>\n",
              "    .dataframe tbody tr th:only-of-type {\n",
              "        vertical-align: middle;\n",
              "    }\n",
              "\n",
              "    .dataframe tbody tr th {\n",
              "        vertical-align: top;\n",
              "    }\n",
              "\n",
              "    .dataframe thead th {\n",
              "        text-align: right;\n",
              "    }\n",
              "</style>\n",
              "<table border=\"1\" class=\"dataframe\">\n",
              "  <thead>\n",
              "    <tr style=\"text-align: right;\">\n",
              "      <th></th>\n",
              "      <th>Category</th>\n",
              "      <th>Description</th>\n",
              "    </tr>\n",
              "  </thead>\n",
              "  <tbody>\n",
              "    <tr>\n",
              "      <th>0</th>\n",
              "      <td>Healthcare</td>\n",
              "      <td>Principal Medical Group is a concierge medical...</td>\n",
              "    </tr>\n",
              "    <tr>\n",
              "      <th>1</th>\n",
              "      <td>Healthcare</td>\n",
              "      <td>Grafton Eye Center offers professional eye doc...</td>\n",
              "    </tr>\n",
              "    <tr>\n",
              "      <th>2</th>\n",
              "      <td>Financials</td>\n",
              "      <td>We are a one-stop insurance provider, speciali...</td>\n",
              "    </tr>\n",
              "    <tr>\n",
              "      <th>3</th>\n",
              "      <td>Materials</td>\n",
              "      <td>DC Fine Chemicals offer semi bulk chemicals fo...</td>\n",
              "    </tr>\n",
              "    <tr>\n",
              "      <th>4</th>\n",
              "      <td>Healthcare</td>\n",
              "      <td>Are you planning to get an eye exam? Learn mor...</td>\n",
              "    </tr>\n",
              "  </tbody>\n",
              "</table>\n",
              "</div>"
            ],
            "text/plain": [
              "     Category                                        Description\n",
              "0  Healthcare  Principal Medical Group is a concierge medical...\n",
              "1  Healthcare  Grafton Eye Center offers professional eye doc...\n",
              "2  Financials  We are a one-stop insurance provider, speciali...\n",
              "3   Materials  DC Fine Chemicals offer semi bulk chemicals fo...\n",
              "4  Healthcare  Are you planning to get an eye exam? Learn mor..."
            ]
          },
          "metadata": {
            "tags": []
          },
          "execution_count": 10
        }
      ]
    },
    {
      "cell_type": "markdown",
      "metadata": {
        "id": "fMC-VVyR5T8b"
      },
      "source": [
        "## Build the model"
      ]
    },
    {
      "cell_type": "markdown",
      "metadata": {
        "id": "oIonjz_i5lA8"
      },
      "source": [
        "reference : https://colab.research.google.com/github/lmoroney/dlaicourse/blob/master/TensorFlow%20In%20Practice/Course%203%20-%20NLP/Course%203%20-%20Week%202%20-%20Exercise%20-%20Answer.ipynb"
      ]
    },
    {
      "cell_type": "code",
      "metadata": {
        "id": "WwvZlo3l5XGQ"
      },
      "source": [
        "# parameter setting\n",
        "vocab_size = 1000\n",
        "embedding_dim = 6 # 16 -> 91%\n",
        "max_length = 50 # 128 -> 91%\n",
        "trunc_type='post'\n",
        "padding_type='post'\n",
        "oov_tok = \"<OOV>\"\n",
        "training_portion = .8"
      ],
      "execution_count": 11,
      "outputs": []
    },
    {
      "cell_type": "code",
      "metadata": {
        "id": "NC0wCofl5hwy"
      },
      "source": [
        "sentences = []\n",
        "labels = [x for x in df['Category']]\n",
        "stopwords = [ \"a\", \"about\", \"above\", \"after\", \"again\", \"against\", \"all\", \"am\", \"an\", \"and\", \"any\", \"are\", \"as\", \"at\", \"be\", \"because\", \"been\", \"before\", \"being\", \"below\", \"between\", \"both\", \"but\", \"by\", \"could\", \"did\", \"do\", \"does\", \"doing\", \"down\", \"during\", \"each\", \"few\", \"for\", \"from\", \"further\", \"had\", \"has\", \"have\", \"having\", \"he\", \"he'd\", \"he'll\", \"he's\", \"her\", \"here\", \"here's\", \"hers\", \"herself\", \"him\", \"himself\", \"his\", \"how\", \"how's\", \"i\", \"i'd\", \"i'll\", \"i'm\", \"i've\", \"if\", \"in\", \"into\", \"is\", \"it\", \"it's\", \"its\", \"itself\", \"let's\", \"me\", \"more\", \"most\", \"my\", \"myself\", \"nor\", \"of\", \"on\", \"once\", \"only\", \"or\", \"other\", \"ought\", \"our\", \"ours\", \"ourselves\", \"out\", \"over\", \"own\", \"same\", \"she\", \"she'd\", \"she'll\", \"she's\", \"should\", \"so\", \"some\", \"such\", \"than\", \"that\", \"that's\", \"the\", \"their\", \"theirs\", \"them\", \"themselves\", \"then\", \"there\", \"there's\", \"these\", \"they\", \"they'd\", \"they'll\", \"they're\", \"they've\", \"this\", \"those\", \"through\", \"to\", \"too\", \"under\", \"until\", \"up\", \"very\", \"was\", \"we\", \"we'd\", \"we'll\", \"we're\", \"we've\", \"were\", \"what\", \"what's\", \"when\", \"when's\", \"where\", \"where's\", \"which\", \"while\", \"who\", \"who's\", \"whom\", \"why\", \"why's\", \"with\", \"would\", \"you\", \"you'd\", \"you'll\", \"you're\", \"you've\", \"your\", \"yours\", \"yourself\", \"yourselves\" ]"
      ],
      "execution_count": 12,
      "outputs": []
    },
    {
      "cell_type": "code",
      "metadata": {
        "colab": {
          "base_uri": "https://localhost:8080/"
        },
        "id": "eCu0UlDy5r4N",
        "outputId": "8b61ab51-f1e0-4fea-dd40-4a8ad539df1f"
      },
      "source": [
        "for x in df['Description']:\n",
        "  sentence = x\n",
        "  for word in stopwords:\n",
        "    token = \" \" + word + \" \"\n",
        "    sentence = sentence.replace(token, \" \")\n",
        "  sentences.append(sentence)\n",
        "\n",
        "print(len(labels))\n",
        "print(len(sentences))"
      ],
      "execution_count": 13,
      "outputs": [
        {
          "output_type": "stream",
          "text": [
            "18303\n",
            "18303\n"
          ],
          "name": "stdout"
        }
      ]
    },
    {
      "cell_type": "code",
      "metadata": {
        "colab": {
          "base_uri": "https://localhost:8080/"
        },
        "id": "hbwsp7b7_k7D",
        "outputId": "8cc76867-39d5-4ea1-88cd-bdb3d494cd65"
      },
      "source": [
        "train_size = int(len(sentences) * training_portion)\n",
        "\n",
        "train_sentences = sentences[:train_size]\n",
        "train_labels = labels[:train_size]\n",
        "\n",
        "validation_sentences = sentences[train_size:]\n",
        "validation_labels = labels[train_size:]\n",
        "\n",
        "print(train_size)\n",
        "print(len(train_sentences))\n",
        "print(len(train_labels))\n",
        "print(len(validation_sentences))\n",
        "print(len(validation_labels))"
      ],
      "execution_count": 14,
      "outputs": [
        {
          "output_type": "stream",
          "text": [
            "14642\n",
            "14642\n",
            "14642\n",
            "3661\n",
            "3661\n"
          ],
          "name": "stdout"
        }
      ]
    },
    {
      "cell_type": "code",
      "metadata": {
        "colab": {
          "base_uri": "https://localhost:8080/"
        },
        "id": "5MrWukek_lvb",
        "outputId": "c6c31483-e84c-43a0-dae5-00b34bcc8ce2"
      },
      "source": [
        "from tensorflow.keras.preprocessing.text import Tokenizer\n",
        "from tensorflow.keras.preprocessing.sequence import pad_sequences\n",
        "\n",
        "tokenizer = Tokenizer(num_words = vocab_size, oov_token=oov_tok)\n",
        "tokenizer.fit_on_texts(train_sentences)\n",
        "word_index = tokenizer.word_index\n",
        "\n",
        "train_sequences = tokenizer.texts_to_sequences(train_sentences)\n",
        "train_padded = pad_sequences(train_sequences, padding=padding_type, maxlen=max_length)\n",
        "\n",
        "print(len(train_sequences[0]))\n",
        "print(len(train_padded[0]))\n",
        "\n",
        "print(len(train_sequences[1]))\n",
        "print(len(train_padded[1]))\n",
        "\n",
        "print(len(train_sequences[10]))\n",
        "print(len(train_padded[10]))"
      ],
      "execution_count": 15,
      "outputs": [
        {
          "output_type": "stream",
          "text": [
            "31\n",
            "50\n",
            "10\n",
            "50\n",
            "27\n",
            "50\n"
          ],
          "name": "stdout"
        }
      ]
    },
    {
      "cell_type": "code",
      "metadata": {
        "colab": {
          "base_uri": "https://localhost:8080/"
        },
        "id": "evFfyHe-_rGG",
        "outputId": "6f99806a-1e2c-441a-89d8-94d2b66bba7f"
      },
      "source": [
        "validation_sequences = tokenizer.texts_to_sequences(validation_sentences)\n",
        "validation_padded = pad_sequences(validation_sequences, padding=padding_type, maxlen=max_length)\n",
        "\n",
        "print(len(validation_sequences))\n",
        "print(validation_padded.shape)"
      ],
      "execution_count": 16,
      "outputs": [
        {
          "output_type": "stream",
          "text": [
            "3661\n",
            "(3661, 50)\n"
          ],
          "name": "stdout"
        }
      ]
    },
    {
      "cell_type": "code",
      "metadata": {
        "colab": {
          "base_uri": "https://localhost:8080/"
        },
        "id": "wE_enkLr_uFI",
        "outputId": "10aaadf9-9133-4562-d3f2-d614f2ad6c67"
      },
      "source": [
        "label_tokenizer = Tokenizer()\n",
        "label_tokenizer.fit_on_texts(labels)\n",
        "\n",
        "training_label_seq = np.array(label_tokenizer.texts_to_sequences(train_labels))\n",
        "validation_label_seq = np.array(label_tokenizer.texts_to_sequences(validation_labels))\n",
        "\n",
        "print(training_label_seq[0])\n",
        "print(training_label_seq[1])\n",
        "print(training_label_seq[2])\n",
        "print(training_label_seq.shape)\n",
        "\n",
        "print(validation_label_seq[0])\n",
        "print(validation_label_seq[1])\n",
        "print(validation_label_seq[2])\n",
        "print(validation_label_seq.shape)"
      ],
      "execution_count": 17,
      "outputs": [
        {
          "output_type": "stream",
          "text": [
            "[1]\n",
            "[1]\n",
            "[2]\n",
            "(14642, 1)\n",
            "[3]\n",
            "[4]\n",
            "[3]\n",
            "(3661, 1)\n"
          ],
          "name": "stdout"
        }
      ]
    },
    {
      "cell_type": "code",
      "metadata": {
        "colab": {
          "base_uri": "https://localhost:8080/"
        },
        "id": "VCtIo8nP_vJR",
        "outputId": "0fe330e1-5386-4c49-f5a5-fc584eac1d6a"
      },
      "source": [
        "model = tf.keras.Sequential([\n",
        "    tf.keras.layers.Embedding(vocab_size, embedding_dim, input_length=max_length),\n",
        "    tf.keras.layers.GlobalAveragePooling1D(),\n",
        "    # tf.keras.layers.Dense(32, activation='relu'),\n",
        "    tf.keras.layers.Dense(16, activation='relu'),\n",
        "    tf.keras.layers.Dense(5, activation='softmax')\n",
        "])\n",
        "model.compile(loss='sparse_categorical_crossentropy',optimizer='adam',metrics=['accuracy'])\n",
        "model.summary()"
      ],
      "execution_count": 18,
      "outputs": [
        {
          "output_type": "stream",
          "text": [
            "Model: \"sequential\"\n",
            "_________________________________________________________________\n",
            "Layer (type)                 Output Shape              Param #   \n",
            "=================================================================\n",
            "embedding (Embedding)        (None, 50, 6)             6000      \n",
            "_________________________________________________________________\n",
            "global_average_pooling1d (Gl (None, 6)                 0         \n",
            "_________________________________________________________________\n",
            "dense (Dense)                (None, 16)                112       \n",
            "_________________________________________________________________\n",
            "dense_1 (Dense)              (None, 5)                 85        \n",
            "=================================================================\n",
            "Total params: 6,197\n",
            "Trainable params: 6,197\n",
            "Non-trainable params: 0\n",
            "_________________________________________________________________\n"
          ],
          "name": "stdout"
        }
      ]
    },
    {
      "cell_type": "code",
      "metadata": {
        "colab": {
          "base_uri": "https://localhost:8080/"
        },
        "id": "PkxBl5Na_yPH",
        "outputId": "60471cb6-03b9-4795-c032-ddb142eca2ac"
      },
      "source": [
        "num_epochs = 15\n",
        "history = model.fit(train_padded, training_label_seq, epochs=num_epochs, validation_data=(validation_padded, validation_label_seq))"
      ],
      "execution_count": 19,
      "outputs": [
        {
          "output_type": "stream",
          "text": [
            "Epoch 1/15\n",
            "458/458 [==============================] - 1s 2ms/step - loss: 1.3151 - accuracy: 0.4475 - val_loss: 1.1604 - val_accuracy: 0.5777\n",
            "Epoch 2/15\n",
            "458/458 [==============================] - 1s 2ms/step - loss: 0.8541 - accuracy: 0.7041 - val_loss: 0.5900 - val_accuracy: 0.7837\n",
            "Epoch 3/15\n",
            "458/458 [==============================] - 1s 2ms/step - loss: 0.4595 - accuracy: 0.8343 - val_loss: 0.4007 - val_accuracy: 0.8820\n",
            "Epoch 4/15\n",
            "458/458 [==============================] - 1s 2ms/step - loss: 0.3436 - accuracy: 0.8941 - val_loss: 0.3309 - val_accuracy: 0.8957\n",
            "Epoch 5/15\n",
            "458/458 [==============================] - 1s 2ms/step - loss: 0.2847 - accuracy: 0.9079 - val_loss: 0.2905 - val_accuracy: 0.9028\n",
            "Epoch 6/15\n",
            "458/458 [==============================] - 1s 2ms/step - loss: 0.2515 - accuracy: 0.9163 - val_loss: 0.2745 - val_accuracy: 0.9052\n",
            "Epoch 7/15\n",
            "458/458 [==============================] - 1s 2ms/step - loss: 0.2318 - accuracy: 0.9212 - val_loss: 0.2663 - val_accuracy: 0.9088\n",
            "Epoch 8/15\n",
            "458/458 [==============================] - 1s 2ms/step - loss: 0.2181 - accuracy: 0.9248 - val_loss: 0.2612 - val_accuracy: 0.9090\n",
            "Epoch 9/15\n",
            "458/458 [==============================] - 1s 2ms/step - loss: 0.2085 - accuracy: 0.9273 - val_loss: 0.2592 - val_accuracy: 0.9079\n",
            "Epoch 10/15\n",
            "458/458 [==============================] - 1s 2ms/step - loss: 0.2015 - accuracy: 0.9304 - val_loss: 0.2567 - val_accuracy: 0.9085\n",
            "Epoch 11/15\n",
            "458/458 [==============================] - 1s 2ms/step - loss: 0.1951 - accuracy: 0.9307 - val_loss: 0.2575 - val_accuracy: 0.9090\n",
            "Epoch 12/15\n",
            "458/458 [==============================] - 1s 2ms/step - loss: 0.1898 - accuracy: 0.9345 - val_loss: 0.2622 - val_accuracy: 0.9104\n",
            "Epoch 13/15\n",
            "458/458 [==============================] - 1s 2ms/step - loss: 0.1856 - accuracy: 0.9349 - val_loss: 0.2619 - val_accuracy: 0.9071\n",
            "Epoch 14/15\n",
            "458/458 [==============================] - 1s 2ms/step - loss: 0.1814 - accuracy: 0.9353 - val_loss: 0.2620 - val_accuracy: 0.9069\n",
            "Epoch 15/15\n",
            "458/458 [==============================] - 1s 2ms/step - loss: 0.1783 - accuracy: 0.9372 - val_loss: 0.2644 - val_accuracy: 0.9063\n"
          ],
          "name": "stdout"
        }
      ]
    },
    {
      "cell_type": "markdown",
      "metadata": {
        "id": "MJuf_wol_6Zd"
      },
      "source": [
        "## Test Predict"
      ]
    },
    {
      "cell_type": "code",
      "metadata": {
        "id": "GcgKUftV_2ji"
      },
      "source": [
        "# check word token of the category\n",
        "label_tokenizer.index_word"
      ],
      "execution_count": null,
      "outputs": []
    },
    {
      "cell_type": "code",
      "metadata": {
        "id": "MWL7HUjs__fH"
      },
      "source": [
        "text = \"start your business by planning it together with us\" \n",
        "test_string = [text]\n",
        "test = tokenizer.texts_to_sequences(test_string)\n",
        "test_padded = pad_sequences(test, padding=padding_type, maxlen=max_length)"
      ],
      "execution_count": null,
      "outputs": []
    },
    {
      "cell_type": "code",
      "metadata": {
        "id": "9jab3GWwACTW"
      },
      "source": [
        "test_padded"
      ],
      "execution_count": null,
      "outputs": []
    },
    {
      "cell_type": "code",
      "metadata": {
        "id": "tcLEQjnjAC1M"
      },
      "source": [
        "res = model.predict(test_padded)\n",
        "result = np.argmax(res, axis=1)\n",
        "result"
      ],
      "execution_count": null,
      "outputs": []
    },
    {
      "cell_type": "markdown",
      "metadata": {
        "id": "pBqsPUzVMRDQ"
      },
      "source": [
        "## Save the model"
      ]
    },
    {
      "cell_type": "code",
      "metadata": {
        "colab": {
          "base_uri": "https://localhost:8080/"
        },
        "id": "PetvJTRWMPR_",
        "outputId": "97457da8-e93d-4ae0-9152-25ee8a08f1ba"
      },
      "source": [
        "!mkdir -p saved_model\n",
        "model.save('saved_model/my_model')"
      ],
      "execution_count": 20,
      "outputs": [
        {
          "output_type": "stream",
          "text": [
            "INFO:tensorflow:Assets written to: saved_model/my_model/assets\n"
          ],
          "name": "stdout"
        }
      ]
    },
    {
      "cell_type": "code",
      "metadata": {
        "id": "zYna2SfJMTgX"
      },
      "source": [
        ""
      ],
      "execution_count": null,
      "outputs": []
    }
  ]
}