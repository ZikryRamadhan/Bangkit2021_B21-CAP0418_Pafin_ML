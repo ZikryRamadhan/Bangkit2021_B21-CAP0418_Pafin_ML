{
  "nbformat": 4,
  "nbformat_minor": 0,
  "metadata": {
    "colab": {
      "name": "Capstone_ML.ipynb",
      "provenance": [],
      "collapsed_sections": [],
      "toc_visible": true,
      "authorship_tag": "ABX9TyNlqgr2K1B8tAGLa0/F3av6",
      "include_colab_link": true
    },
    "kernelspec": {
      "name": "python3",
      "display_name": "Python 3"
    },
    "language_info": {
      "name": "python"
    }
  },
  "cells": [
    {
      "cell_type": "markdown",
      "metadata": {
        "id": "view-in-github",
        "colab_type": "text"
      },
      "source": [
        "<a href=\"https://colab.research.google.com/github/ZikryRamadhan/Bangkit2021_Pafin/blob/main/Capstone_ML.ipynb\" target=\"_parent\"><img src=\"https://colab.research.google.com/assets/colab-badge.svg\" alt=\"Open In Colab\"/></a>"
      ]
    },
    {
      "cell_type": "code",
      "metadata": {
        "id": "tLj86PFEy5x7"
      },
      "source": [
        "import pandas as pd\n",
        "import numpy as np\n",
        "import tensorflow as tf"
      ],
      "execution_count": 1,
      "outputs": []
    },
    {
      "cell_type": "markdown",
      "metadata": {
        "id": "kifBqcn_0JDT"
      },
      "source": [
        "## Getting the dataset"
      ]
    },
    {
      "cell_type": "markdown",
      "metadata": {
        "id": "IAkCzD9fCihB"
      },
      "source": [
        "Dataset available from kaggle (https://www.kaggle.com/charanpuvvala/company-classification)"
      ]
    },
    {
      "cell_type": "markdown",
      "metadata": {
        "id": "IqNnF8utCjtn"
      },
      "source": [
        "Upload kaggle.json first (open kaggle, account -> create new API token)"
      ]
    },
    {
      "cell_type": "code",
      "metadata": {
        "colab": {
          "base_uri": "https://localhost:8080/"
        },
        "id": "bxsff1u40C3K",
        "outputId": "9ce16203-1d26-4875-dc68-00c25e54168c"
      },
      "source": [
        "! chmod 600 kaggle.json && (ls ~/.kaggle 2>/dev/null || mkdir ~/.kaggle) && mv kaggle.json ~/.kaggle/ && echo 'Done'"
      ],
      "execution_count": 2,
      "outputs": [
        {
          "output_type": "stream",
          "text": [
            "Done\n"
          ],
          "name": "stdout"
        }
      ]
    },
    {
      "cell_type": "code",
      "metadata": {
        "colab": {
          "base_uri": "https://localhost:8080/"
        },
        "id": "-NBLxKEt0HRt",
        "outputId": "80cee907-9c49-40ac-9cd9-8bba5aa8ee9f"
      },
      "source": [
        "! kaggle datasets download charanpuvvala/company-classification\n",
        "! ls"
      ],
      "execution_count": 3,
      "outputs": [
        {
          "output_type": "stream",
          "text": [
            "Downloading company-classification.zip to /content\n",
            " 99% 121M/122M [00:00<00:00, 118MB/s]\n",
            "100% 122M/122M [00:00<00:00, 132MB/s]\n",
            "company-classification.zip  sample_data\n"
          ],
          "name": "stdout"
        }
      ]
    },
    {
      "cell_type": "markdown",
      "metadata": {
        "id": "Qq2vLPHb0NGv"
      },
      "source": [
        "## Preprocessing dataset"
      ]
    },
    {
      "cell_type": "code",
      "metadata": {
        "colab": {
          "base_uri": "https://localhost:8080/",
          "height": 496
        },
        "id": "Aq6-3SqY0RFr",
        "outputId": "cd5d2976-ce12-449f-fefc-68491380e71e"
      },
      "source": [
        "df = pd.read_csv('company-classification.zip')\n",
        "df.head()"
      ],
      "execution_count": 2,
      "outputs": [
        {
          "output_type": "execute_result",
          "data": {
            "text/html": [
              "<div>\n",
              "<style scoped>\n",
              "    .dataframe tbody tr th:only-of-type {\n",
              "        vertical-align: middle;\n",
              "    }\n",
              "\n",
              "    .dataframe tbody tr th {\n",
              "        vertical-align: top;\n",
              "    }\n",
              "\n",
              "    .dataframe thead th {\n",
              "        text-align: right;\n",
              "    }\n",
              "</style>\n",
              "<table border=\"1\" class=\"dataframe\">\n",
              "  <thead>\n",
              "    <tr style=\"text-align: right;\">\n",
              "      <th></th>\n",
              "      <th>Category</th>\n",
              "      <th>website</th>\n",
              "      <th>company_name</th>\n",
              "      <th>homepage_text</th>\n",
              "      <th>h1</th>\n",
              "      <th>h2</th>\n",
              "      <th>h3</th>\n",
              "      <th>nav_link_text</th>\n",
              "      <th>meta_keywords</th>\n",
              "      <th>meta_description</th>\n",
              "    </tr>\n",
              "  </thead>\n",
              "  <tbody>\n",
              "    <tr>\n",
              "      <th>0</th>\n",
              "      <td>Commercial Services &amp; Supplies</td>\n",
              "      <td>bipelectric.com</td>\n",
              "      <td>bip dipietro electric inc</td>\n",
              "      <td>Electrici...</td>\n",
              "      <td>NaN</td>\n",
              "      <td>NaN</td>\n",
              "      <td>NaN</td>\n",
              "      <td>NaN</td>\n",
              "      <td>electricians vero beach, vero beach electrical...</td>\n",
              "      <td>Providing quality, reliable full service resid...</td>\n",
              "    </tr>\n",
              "    <tr>\n",
              "      <th>1</th>\n",
              "      <td>Healthcare</td>\n",
              "      <td>eliasmedical.com</td>\n",
              "      <td>elias medical</td>\n",
              "      <td>site map | en español    Elias Medical   h...</td>\n",
              "      <td>Offering Bakersfield family medical care from ...</td>\n",
              "      <td>Welcome to ELIAS MEDICAL#sep#Family Medical Pr...</td>\n",
              "      <td>Get To Know Elias Medical#sep#Family Medical P...</td>\n",
              "      <td>NaN</td>\n",
              "      <td>Elias Medical bakersfield ca family doctor med...</td>\n",
              "      <td>For the best value in Bakersfield skin care tr...</td>\n",
              "    </tr>\n",
              "    <tr>\n",
              "      <th>2</th>\n",
              "      <td>Commercial Services &amp; Supplies</td>\n",
              "      <td>koopsoverheaddoors.com</td>\n",
              "      <td>koops overhead doors</td>\n",
              "      <td>Home  About Us  Garage Door Repair &amp; Servi...</td>\n",
              "      <td>NaN</td>\n",
              "      <td>Customer Reviews#sep#Welcome to Koops Overhead...</td>\n",
              "      <td>NaN</td>\n",
              "      <td>NaN</td>\n",
              "      <td>Koops Overhead Doors, Albany Garage Doors, Tro...</td>\n",
              "      <td>Koops Overhead Doors specializes in the sales,...</td>\n",
              "    </tr>\n",
              "    <tr>\n",
              "      <th>3</th>\n",
              "      <td>Healthcare</td>\n",
              "      <td>midtowneyes.com</td>\n",
              "      <td>midtown eyecare</td>\n",
              "      <td>918-599-0202        Type Size...</td>\n",
              "      <td>NaN</td>\n",
              "      <td>Welcome to our practice!</td>\n",
              "      <td>NaN</td>\n",
              "      <td>NaN</td>\n",
              "      <td>NaN</td>\n",
              "      <td>We would like to welcome you to Midtown Eyecar...</td>\n",
              "    </tr>\n",
              "    <tr>\n",
              "      <th>4</th>\n",
              "      <td>Commercial Services &amp; Supplies</td>\n",
              "      <td>reprosecurity.co.uk</td>\n",
              "      <td>repro security ltd</td>\n",
              "      <td>Simply fill out our form below...</td>\n",
              "      <td>NaN</td>\n",
              "      <td>Welcome to REPRO SECURITY Ltd</td>\n",
              "      <td>NaN</td>\n",
              "      <td>NaN</td>\n",
              "      <td>NaN</td>\n",
              "      <td>Repro Security provide a range of tailor made ...</td>\n",
              "    </tr>\n",
              "  </tbody>\n",
              "</table>\n",
              "</div>"
            ],
            "text/plain": [
              "                         Category  ...                                   meta_description\n",
              "0  Commercial Services & Supplies  ...  Providing quality, reliable full service resid...\n",
              "1                      Healthcare  ...  For the best value in Bakersfield skin care tr...\n",
              "2  Commercial Services & Supplies  ...  Koops Overhead Doors specializes in the sales,...\n",
              "3                      Healthcare  ...  We would like to welcome you to Midtown Eyecar...\n",
              "4  Commercial Services & Supplies  ...  Repro Security provide a range of tailor made ...\n",
              "\n",
              "[5 rows x 10 columns]"
            ]
          },
          "metadata": {
            "tags": []
          },
          "execution_count": 2
        }
      ]
    },
    {
      "cell_type": "code",
      "metadata": {
        "colab": {
          "base_uri": "https://localhost:8080/",
          "height": 204
        },
        "id": "lE02SWv60mVb",
        "outputId": "8e87aadc-a13e-4303-e732-4d3b82f41ec3"
      },
      "source": [
        "# Remove all column except Category and meta_description \n",
        "# Rename meta_description to Description\n",
        "df.drop(['company_name', 'homepage_text',\t'h1',\t'h2',\t'h3', 'website', 'nav_link_text',\t'meta_keywords'], axis=1, inplace=True)\n",
        "df.rename(columns={'meta_description' : 'Description'}, inplace=True)\n",
        "df.head()"
      ],
      "execution_count": 3,
      "outputs": [
        {
          "output_type": "execute_result",
          "data": {
            "text/html": [
              "<div>\n",
              "<style scoped>\n",
              "    .dataframe tbody tr th:only-of-type {\n",
              "        vertical-align: middle;\n",
              "    }\n",
              "\n",
              "    .dataframe tbody tr th {\n",
              "        vertical-align: top;\n",
              "    }\n",
              "\n",
              "    .dataframe thead th {\n",
              "        text-align: right;\n",
              "    }\n",
              "</style>\n",
              "<table border=\"1\" class=\"dataframe\">\n",
              "  <thead>\n",
              "    <tr style=\"text-align: right;\">\n",
              "      <th></th>\n",
              "      <th>Category</th>\n",
              "      <th>Description</th>\n",
              "    </tr>\n",
              "  </thead>\n",
              "  <tbody>\n",
              "    <tr>\n",
              "      <th>0</th>\n",
              "      <td>Commercial Services &amp; Supplies</td>\n",
              "      <td>Providing quality, reliable full service resid...</td>\n",
              "    </tr>\n",
              "    <tr>\n",
              "      <th>1</th>\n",
              "      <td>Healthcare</td>\n",
              "      <td>For the best value in Bakersfield skin care tr...</td>\n",
              "    </tr>\n",
              "    <tr>\n",
              "      <th>2</th>\n",
              "      <td>Commercial Services &amp; Supplies</td>\n",
              "      <td>Koops Overhead Doors specializes in the sales,...</td>\n",
              "    </tr>\n",
              "    <tr>\n",
              "      <th>3</th>\n",
              "      <td>Healthcare</td>\n",
              "      <td>We would like to welcome you to Midtown Eyecar...</td>\n",
              "    </tr>\n",
              "    <tr>\n",
              "      <th>4</th>\n",
              "      <td>Commercial Services &amp; Supplies</td>\n",
              "      <td>Repro Security provide a range of tailor made ...</td>\n",
              "    </tr>\n",
              "  </tbody>\n",
              "</table>\n",
              "</div>"
            ],
            "text/plain": [
              "                         Category                                        Description\n",
              "0  Commercial Services & Supplies  Providing quality, reliable full service resid...\n",
              "1                      Healthcare  For the best value in Bakersfield skin care tr...\n",
              "2  Commercial Services & Supplies  Koops Overhead Doors specializes in the sales,...\n",
              "3                      Healthcare  We would like to welcome you to Midtown Eyecar...\n",
              "4  Commercial Services & Supplies  Repro Security provide a range of tailor made ..."
            ]
          },
          "metadata": {
            "tags": []
          },
          "execution_count": 3
        }
      ]
    },
    {
      "cell_type": "code",
      "metadata": {
        "id": "c-AkHy903JGL"
      },
      "source": [
        "# Category with more than 1 word will raise an error during training\n",
        "# So have to rename or remove them\n",
        "err = ['Commercial Services & Supplies',\n",
        "       'Energy & Utilities', 'Professional Services',\n",
        "       'Corporate Services', 'Media, Marketing & Sales',\n",
        "       'Information Technology', 'Consumer Discretionary', \n",
        "       'Transportation & Logistics', 'Consumer Staples']"
      ],
      "execution_count": 4,
      "outputs": []
    },
    {
      "cell_type": "code",
      "metadata": {
        "id": "5NLNRR-v3pl9"
      },
      "source": [
        "# We will remove them to make the dataset smaller\n",
        "for x in range(len(err)):\n",
        "  df.drop(index=df[df['Category'] == err[x]].index, inplace=True)"
      ],
      "execution_count": 5,
      "outputs": []
    },
    {
      "cell_type": "code",
      "metadata": {
        "id": "Ud5eEkX84meN"
      },
      "source": [
        "# Drop any row with NaN value\n",
        "df.dropna(inplace=True)"
      ],
      "execution_count": 6,
      "outputs": []
    },
    {
      "cell_type": "code",
      "metadata": {
        "id": "KVdCRoZK4-jV"
      },
      "source": [
        "# Shuffle and Reset index\n",
        "df = df.sample(frac=1).reset_index(drop=True)"
      ],
      "execution_count": 7,
      "outputs": []
    },
    {
      "cell_type": "code",
      "metadata": {
        "colab": {
          "base_uri": "https://localhost:8080/",
          "height": 204
        },
        "id": "aXDYkNHe5K1J",
        "outputId": "31795b91-1416-4c37-d396-ad3444ca71d3"
      },
      "source": [
        "df.head()"
      ],
      "execution_count": 8,
      "outputs": [
        {
          "output_type": "execute_result",
          "data": {
            "text/html": [
              "<div>\n",
              "<style scoped>\n",
              "    .dataframe tbody tr th:only-of-type {\n",
              "        vertical-align: middle;\n",
              "    }\n",
              "\n",
              "    .dataframe tbody tr th {\n",
              "        vertical-align: top;\n",
              "    }\n",
              "\n",
              "    .dataframe thead th {\n",
              "        text-align: right;\n",
              "    }\n",
              "</style>\n",
              "<table border=\"1\" class=\"dataframe\">\n",
              "  <thead>\n",
              "    <tr style=\"text-align: right;\">\n",
              "      <th></th>\n",
              "      <th>Category</th>\n",
              "      <th>Description</th>\n",
              "    </tr>\n",
              "  </thead>\n",
              "  <tbody>\n",
              "    <tr>\n",
              "      <th>0</th>\n",
              "      <td>Healthcare</td>\n",
              "      <td>Visit Indian Walk Veterinary Center in Newtown...</td>\n",
              "    </tr>\n",
              "    <tr>\n",
              "      <th>1</th>\n",
              "      <td>Financials</td>\n",
              "      <td>InterWeb Insurance provides our customers acce...</td>\n",
              "    </tr>\n",
              "    <tr>\n",
              "      <th>2</th>\n",
              "      <td>Healthcare</td>\n",
              "      <td>Harland Medical Systems is a leading provider ...</td>\n",
              "    </tr>\n",
              "    <tr>\n",
              "      <th>3</th>\n",
              "      <td>Financials</td>\n",
              "      <td>UNITEL is a division of UNICO group, dedicated...</td>\n",
              "    </tr>\n",
              "    <tr>\n",
              "      <th>4</th>\n",
              "      <td>Financials</td>\n",
              "      <td>We are a team of professional mortgage brokers...</td>\n",
              "    </tr>\n",
              "  </tbody>\n",
              "</table>\n",
              "</div>"
            ],
            "text/plain": [
              "     Category                                        Description\n",
              "0  Healthcare  Visit Indian Walk Veterinary Center in Newtown...\n",
              "1  Financials  InterWeb Insurance provides our customers acce...\n",
              "2  Healthcare  Harland Medical Systems is a leading provider ...\n",
              "3  Financials  UNITEL is a division of UNICO group, dedicated...\n",
              "4  Financials  We are a team of professional mortgage brokers..."
            ]
          },
          "metadata": {
            "tags": []
          },
          "execution_count": 8
        }
      ]
    },
    {
      "cell_type": "markdown",
      "metadata": {
        "id": "fMC-VVyR5T8b"
      },
      "source": [
        "## Build the model"
      ]
    },
    {
      "cell_type": "markdown",
      "metadata": {
        "id": "oIonjz_i5lA8"
      },
      "source": [
        "reference : https://colab.research.google.com/github/lmoroney/dlaicourse/blob/master/TensorFlow%20In%20Practice/Course%203%20-%20NLP/Course%203%20-%20Week%202%20-%20Exercise%20-%20Question.ipynb\n",
        "\n",
        "(from Coursera Natural Language Processing in TensorFlow course)"
      ]
    },
    {
      "cell_type": "code",
      "metadata": {
        "id": "WwvZlo3l5XGQ"
      },
      "source": [
        "# parameter setting\n",
        "vocab_size = 1000\n",
        "embedding_dim = 6 # changing this doesn't seem to make much impact on the model result\n",
        "max_length = 50 # changing this doesn't seem to make much impact on the model result\n",
        "trunc_type='post'\n",
        "padding_type='post'\n",
        "oov_tok = \"<OOV>\"\n",
        "training_portion = .8"
      ],
      "execution_count": 9,
      "outputs": []
    },
    {
      "cell_type": "code",
      "metadata": {
        "id": "NC0wCofl5hwy"
      },
      "source": [
        "labels = [x for x in df['Category']]\n",
        "stopwords = [ \"a\", \"about\", \"above\", \"after\", \"again\", \"against\", \"all\", \"am\", \"an\", \"and\", \"any\", \"are\", \"as\", \"at\", \"be\", \"because\", \"been\", \"before\", \"being\", \"below\", \"between\", \"both\", \"but\", \"by\", \"could\", \"did\", \"do\", \"does\", \"doing\", \"down\", \"during\", \"each\", \"few\", \"for\", \"from\", \"further\", \"had\", \"has\", \"have\", \"having\", \"he\", \"he'd\", \"he'll\", \"he's\", \"her\", \"here\", \"here's\", \"hers\", \"herself\", \"him\", \"himself\", \"his\", \"how\", \"how's\", \"i\", \"i'd\", \"i'll\", \"i'm\", \"i've\", \"if\", \"in\", \"into\", \"is\", \"it\", \"it's\", \"its\", \"itself\", \"let's\", \"me\", \"more\", \"most\", \"my\", \"myself\", \"nor\", \"of\", \"on\", \"once\", \"only\", \"or\", \"other\", \"ought\", \"our\", \"ours\", \"ourselves\", \"out\", \"over\", \"own\", \"same\", \"she\", \"she'd\", \"she'll\", \"she's\", \"should\", \"so\", \"some\", \"such\", \"than\", \"that\", \"that's\", \"the\", \"their\", \"theirs\", \"them\", \"themselves\", \"then\", \"there\", \"there's\", \"these\", \"they\", \"they'd\", \"they'll\", \"they're\", \"they've\", \"this\", \"those\", \"through\", \"to\", \"too\", \"under\", \"until\", \"up\", \"very\", \"was\", \"we\", \"we'd\", \"we'll\", \"we're\", \"we've\", \"were\", \"what\", \"what's\", \"when\", \"when's\", \"where\", \"where's\", \"which\", \"while\", \"who\", \"who's\", \"whom\", \"why\", \"why's\", \"with\", \"would\", \"you\", \"you'd\", \"you'll\", \"you're\", \"you've\", \"your\", \"yours\", \"yourself\", \"yourselves\" ]"
      ],
      "execution_count": 10,
      "outputs": []
    },
    {
      "cell_type": "code",
      "metadata": {
        "colab": {
          "base_uri": "https://localhost:8080/"
        },
        "id": "eCu0UlDy5r4N",
        "outputId": "8f46b5fa-8817-4123-f537-39ef17a6401c"
      },
      "source": [
        "descriptions = [x for x in df['Description']]\n",
        "for x in range(len(descriptions)):\n",
        "  for word in stopwords:\n",
        "    token = \" \" + word + \" \"\n",
        "    descriptions[x] = descriptions[x].replace(token, \" \") \n",
        "\n",
        "# check the length to make sure both have same length\n",
        "print(len(labels))\n",
        "print(len(descriptions))"
      ],
      "execution_count": 11,
      "outputs": [
        {
          "output_type": "stream",
          "text": [
            "18303\n",
            "18303\n"
          ],
          "name": "stdout"
        }
      ]
    },
    {
      "cell_type": "code",
      "metadata": {
        "colab": {
          "base_uri": "https://localhost:8080/"
        },
        "id": "hbwsp7b7_k7D",
        "outputId": "6a580a88-dddd-46e2-e287-4f550f3ba46b"
      },
      "source": [
        "train_size = int(len(descriptions) * training_portion)\n",
        "\n",
        "train_descriptions = descriptions[:train_size]\n",
        "train_labels = labels[:train_size]\n",
        "\n",
        "validation_descriptions = descriptions[train_size:]\n",
        "validation_labels = labels[train_size:]\n",
        "\n",
        "print(train_size)\n",
        "print(len(train_descriptions))\n",
        "print(len(train_labels))\n",
        "print(len(validation_descriptions))\n",
        "print(len(validation_labels))"
      ],
      "execution_count": 12,
      "outputs": [
        {
          "output_type": "stream",
          "text": [
            "14642\n",
            "14642\n",
            "14642\n",
            "3661\n",
            "3661\n"
          ],
          "name": "stdout"
        }
      ]
    },
    {
      "cell_type": "code",
      "metadata": {
        "colab": {
          "base_uri": "https://localhost:8080/"
        },
        "id": "5MrWukek_lvb",
        "outputId": "cad5e950-dbe2-4a27-c989-eab2ee6fdc90"
      },
      "source": [
        "from tensorflow.keras.preprocessing.text import Tokenizer\n",
        "from tensorflow.keras.preprocessing.sequence import pad_sequences\n",
        "\n",
        "tokenizer = Tokenizer(num_words = vocab_size, oov_token=oov_tok)\n",
        "tokenizer.fit_on_texts(train_descriptions)\n",
        "word_index = tokenizer.word_index\n",
        "\n",
        "train_descriptions = tokenizer.texts_to_sequences(train_descriptions)\n",
        "train_padded = pad_sequences(train_descriptions, padding=padding_type, maxlen=max_length)\n",
        "\n",
        "print(len(train_descriptions[0]))\n",
        "print(len(train_padded[0]))\n",
        "\n",
        "print(len(train_descriptions[1]))\n",
        "print(len(train_padded[1]))\n",
        "\n",
        "print(len(train_descriptions[10]))\n",
        "print(len(train_padded[10]))"
      ],
      "execution_count": 13,
      "outputs": [
        {
          "output_type": "stream",
          "text": [
            "23\n",
            "50\n",
            "43\n",
            "50\n",
            "30\n",
            "50\n"
          ],
          "name": "stdout"
        }
      ]
    },
    {
      "cell_type": "code",
      "metadata": {
        "colab": {
          "base_uri": "https://localhost:8080/"
        },
        "id": "evFfyHe-_rGG",
        "outputId": "9c721d59-ecbc-4d53-83da-26a556da3af3"
      },
      "source": [
        "validation_descriptions = tokenizer.texts_to_sequences(validation_descriptions)\n",
        "validation_padded = pad_sequences(validation_descriptions, padding=padding_type, maxlen=max_length)\n",
        "\n",
        "print(len(validation_descriptions))\n",
        "print(validation_padded.shape)"
      ],
      "execution_count": 14,
      "outputs": [
        {
          "output_type": "stream",
          "text": [
            "3661\n",
            "(3661, 50)\n"
          ],
          "name": "stdout"
        }
      ]
    },
    {
      "cell_type": "code",
      "metadata": {
        "colab": {
          "base_uri": "https://localhost:8080/"
        },
        "id": "wE_enkLr_uFI",
        "outputId": "46e5dd25-3de3-4a13-f4ca-b0c3ad612ca6"
      },
      "source": [
        "label_tokenizer = Tokenizer()\n",
        "label_tokenizer.fit_on_texts(labels)\n",
        "\n",
        "training_label_seq = np.array(label_tokenizer.texts_to_sequences(train_labels))\n",
        "validation_label_seq = np.array(label_tokenizer.texts_to_sequences(validation_labels))\n",
        "\n",
        "print(training_label_seq[0])\n",
        "print(training_label_seq[1])\n",
        "print(training_label_seq[2])\n",
        "print(training_label_seq.shape)\n",
        "\n",
        "print(validation_label_seq[0])\n",
        "print(validation_label_seq[1])\n",
        "print(validation_label_seq[2])\n",
        "print(validation_label_seq.shape)"
      ],
      "execution_count": 15,
      "outputs": [
        {
          "output_type": "stream",
          "text": [
            "[1]\n",
            "[2]\n",
            "[1]\n",
            "(14642, 1)\n",
            "[3]\n",
            "[1]\n",
            "[3]\n",
            "(3661, 1)\n"
          ],
          "name": "stdout"
        }
      ]
    },
    {
      "cell_type": "code",
      "metadata": {
        "colab": {
          "base_uri": "https://localhost:8080/"
        },
        "id": "VCtIo8nP_vJR",
        "outputId": "01cb28d7-41d7-4efe-8b84-c3f59c230db0"
      },
      "source": [
        "model = tf.keras.Sequential([\n",
        "    tf.keras.layers.Embedding(vocab_size, embedding_dim, input_length=max_length),\n",
        "    tf.keras.layers.GlobalAveragePooling1D(),\n",
        "    # tf.keras.layers.Dense(32, activation='relu'),\n",
        "    tf.keras.layers.Dense(16, activation='relu'),\n",
        "    tf.keras.layers.Dense(5, activation='softmax')\n",
        "])\n",
        "model.compile(loss='sparse_categorical_crossentropy',optimizer='adam',metrics=['accuracy'])\n",
        "model.summary()"
      ],
      "execution_count": 16,
      "outputs": [
        {
          "output_type": "stream",
          "text": [
            "Model: \"sequential\"\n",
            "_________________________________________________________________\n",
            "Layer (type)                 Output Shape              Param #   \n",
            "=================================================================\n",
            "embedding (Embedding)        (None, 50, 6)             6000      \n",
            "_________________________________________________________________\n",
            "global_average_pooling1d (Gl (None, 6)                 0         \n",
            "_________________________________________________________________\n",
            "dense (Dense)                (None, 16)                112       \n",
            "_________________________________________________________________\n",
            "dense_1 (Dense)              (None, 5)                 85        \n",
            "=================================================================\n",
            "Total params: 6,197\n",
            "Trainable params: 6,197\n",
            "Non-trainable params: 0\n",
            "_________________________________________________________________\n"
          ],
          "name": "stdout"
        }
      ]
    },
    {
      "cell_type": "code",
      "metadata": {
        "colab": {
          "base_uri": "https://localhost:8080/"
        },
        "id": "PkxBl5Na_yPH",
        "outputId": "d0400112-64c7-4cdb-e450-3b857aa199cf"
      },
      "source": [
        "num_epochs = 15\n",
        "history = model.fit(train_padded, training_label_seq, epochs=num_epochs, validation_data=(validation_padded, validation_label_seq))"
      ],
      "execution_count": 17,
      "outputs": [
        {
          "output_type": "stream",
          "text": [
            "Epoch 1/15\n",
            "458/458 [==============================] - 1s 2ms/step - loss: 1.3427 - accuracy: 0.4748 - val_loss: 1.1722 - val_accuracy: 0.6528\n",
            "Epoch 2/15\n",
            "458/458 [==============================] - 1s 2ms/step - loss: 0.9189 - accuracy: 0.6918 - val_loss: 0.6674 - val_accuracy: 0.7703\n",
            "Epoch 3/15\n",
            "458/458 [==============================] - 1s 2ms/step - loss: 0.5350 - accuracy: 0.8030 - val_loss: 0.4676 - val_accuracy: 0.8014\n",
            "Epoch 4/15\n",
            "458/458 [==============================] - 1s 2ms/step - loss: 0.4133 - accuracy: 0.8224 - val_loss: 0.4006 - val_accuracy: 0.8388\n",
            "Epoch 5/15\n",
            "458/458 [==============================] - 1s 2ms/step - loss: 0.3578 - accuracy: 0.8546 - val_loss: 0.3583 - val_accuracy: 0.8580\n",
            "Epoch 6/15\n",
            "458/458 [==============================] - 1s 2ms/step - loss: 0.3096 - accuracy: 0.8973 - val_loss: 0.3170 - val_accuracy: 0.8946\n",
            "Epoch 7/15\n",
            "458/458 [==============================] - 1s 2ms/step - loss: 0.2664 - accuracy: 0.9188 - val_loss: 0.2901 - val_accuracy: 0.9017\n",
            "Epoch 8/15\n",
            "458/458 [==============================] - 1s 2ms/step - loss: 0.2373 - accuracy: 0.9241 - val_loss: 0.2703 - val_accuracy: 0.9011\n",
            "Epoch 9/15\n",
            "458/458 [==============================] - 1s 2ms/step - loss: 0.2192 - accuracy: 0.9279 - val_loss: 0.2611 - val_accuracy: 0.9041\n",
            "Epoch 10/15\n",
            "458/458 [==============================] - 1s 1ms/step - loss: 0.2064 - accuracy: 0.9313 - val_loss: 0.2579 - val_accuracy: 0.9055\n",
            "Epoch 11/15\n",
            "458/458 [==============================] - 1s 2ms/step - loss: 0.1974 - accuracy: 0.9335 - val_loss: 0.2534 - val_accuracy: 0.9071\n",
            "Epoch 12/15\n",
            "458/458 [==============================] - 1s 2ms/step - loss: 0.1903 - accuracy: 0.9339 - val_loss: 0.2511 - val_accuracy: 0.9090\n",
            "Epoch 13/15\n",
            "458/458 [==============================] - 1s 2ms/step - loss: 0.1845 - accuracy: 0.9353 - val_loss: 0.2566 - val_accuracy: 0.9047\n",
            "Epoch 14/15\n",
            "458/458 [==============================] - 1s 2ms/step - loss: 0.1792 - accuracy: 0.9372 - val_loss: 0.2502 - val_accuracy: 0.9107\n",
            "Epoch 15/15\n",
            "458/458 [==============================] - 1s 2ms/step - loss: 0.1743 - accuracy: 0.9389 - val_loss: 0.2530 - val_accuracy: 0.9107\n"
          ],
          "name": "stdout"
        }
      ]
    },
    {
      "cell_type": "markdown",
      "metadata": {
        "id": "MJuf_wol_6Zd"
      },
      "source": [
        "## Test Predict"
      ]
    },
    {
      "cell_type": "code",
      "metadata": {
        "id": "GcgKUftV_2ji",
        "colab": {
          "base_uri": "https://localhost:8080/"
        },
        "outputId": "c41d3a58-207c-498b-d525-889f5140b907"
      },
      "source": [
        "# check word token of the category\n",
        "label_tokenizer.index_word"
      ],
      "execution_count": 18,
      "outputs": [
        {
          "output_type": "execute_result",
          "data": {
            "text/plain": [
              "{1: 'healthcare', 2: 'financials', 3: 'industrials', 4: 'materials'}"
            ]
          },
          "metadata": {
            "tags": []
          },
          "execution_count": 18
        }
      ]
    },
    {
      "cell_type": "code",
      "metadata": {
        "id": "MWL7HUjs__fH"
      },
      "source": [
        "text = \"creating herbal medicine recommended by various doctor\" \n",
        "test_string = [text]\n",
        "test = tokenizer.texts_to_sequences(test_string)\n",
        "test_padded = pad_sequences(test, padding=padding_type, maxlen=max_length)"
      ],
      "execution_count": 24,
      "outputs": []
    },
    {
      "cell_type": "code",
      "metadata": {
        "id": "9jab3GWwACTW"
      },
      "source": [
        "test_padded"
      ],
      "execution_count": null,
      "outputs": []
    },
    {
      "cell_type": "code",
      "metadata": {
        "id": "tcLEQjnjAC1M",
        "colab": {
          "base_uri": "https://localhost:8080/"
        },
        "outputId": "ec1cdd1e-5a6c-4274-837a-eecb9468edf4"
      },
      "source": [
        "res = model.predict(test_padded)\n",
        "result = np.argmax(res, axis=1)\n",
        "result"
      ],
      "execution_count": 25,
      "outputs": [
        {
          "output_type": "execute_result",
          "data": {
            "text/plain": [
              "array([1])"
            ]
          },
          "metadata": {
            "tags": []
          },
          "execution_count": 25
        }
      ]
    },
    {
      "cell_type": "markdown",
      "metadata": {
        "id": "pBqsPUzVMRDQ"
      },
      "source": [
        "## Save the model"
      ]
    },
    {
      "cell_type": "code",
      "metadata": {
        "colab": {
          "base_uri": "https://localhost:8080/"
        },
        "id": "PetvJTRWMPR_",
        "outputId": "b9aadcd8-9325-417d-e84e-3714e14fa44b"
      },
      "source": [
        "!mkdir -p saved_model\n",
        "model.save('saved_model/my_model')"
      ],
      "execution_count": 22,
      "outputs": [
        {
          "output_type": "stream",
          "text": [
            "INFO:tensorflow:Assets written to: saved_model/my_model/assets\n"
          ],
          "name": "stdout"
        }
      ]
    },
    {
      "cell_type": "code",
      "metadata": {
        "id": "zYna2SfJMTgX",
        "colab": {
          "base_uri": "https://localhost:8080/",
          "height": 35
        },
        "outputId": "e97d654d-cfb5-4c4c-e28d-d9d1c7af1a98"
      },
      "source": [
        "# Make zipfile from the saved model to deploy to cloud\n",
        "import shutil\n",
        "shutil.make_archive('saved_model', 'zip', 'saved_model')"
      ],
      "execution_count": 23,
      "outputs": [
        {
          "output_type": "execute_result",
          "data": {
            "application/vnd.google.colaboratory.intrinsic+json": {
              "type": "string"
            },
            "text/plain": [
              "'/content/saved_model.zip'"
            ]
          },
          "metadata": {
            "tags": []
          },
          "execution_count": 23
        }
      ]
    },
    {
      "cell_type": "code",
      "metadata": {
        "id": "X9bITTYWVD7V"
      },
      "source": [
        ""
      ],
      "execution_count": null,
      "outputs": []
    }
  ]
}